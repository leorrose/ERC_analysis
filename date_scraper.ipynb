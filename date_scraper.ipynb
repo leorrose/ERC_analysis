{
 "cells": [
  {
   "cell_type": "code",
   "execution_count": 4,
   "metadata": {},
   "outputs": [],
   "source": [
    "import numpy as np\n",
    "import pandas as pd\n",
    "from ydata_profiling import ProfileReport"
   ]
  },
  {
   "cell_type": "code",
   "execution_count": 25,
   "metadata": {},
   "outputs": [],
   "source": [
    "#df = pd.read_csv(\"./data/2014.csv\", encoding='Windows-1252', thousands=',')\n",
    "df = pd.read_csv(\"./data/2021.csv\", encoding='MacRoman', thousands=',')"
   ]
  },
  {
   "cell_type": "code",
   "execution_count": 17,
   "metadata": {},
   "outputs": [],
   "source": [
    "profile = ProfileReport(df, title=\"Profiling Report\")"
   ]
  },
  {
   "cell_type": "code",
   "execution_count": 18,
   "metadata": {},
   "outputs": [
    {
     "data": {
      "application/vnd.jupyter.widget-view+json": {
       "model_id": "d5086dd5fe5645a09be41be5b59f32f2",
       "version_major": 2,
       "version_minor": 0
      },
      "text/plain": [
       "Summarize dataset:   0%|          | 0/5 [00:00<?, ?it/s]"
      ]
     },
     "metadata": {},
     "output_type": "display_data"
    },
    {
     "name": "stderr",
     "output_type": "stream",
     "text": [
      "c:\\Users\\Leor\\anaconda3\\envs\\big_data\\lib\\site-packages\\ydata_profiling\\model\\typeset_relations.py:88: UserWarning: Parsing dates in DD/MM/YYYY format when dayfirst=False (the default) was specified. This may lead to inconsistently parsed dates! Specify a format to ensure consistent parsing.\n",
      "  return not series.astype(\"datetime64\").isna().all()\n",
      "c:\\Users\\Leor\\anaconda3\\envs\\big_data\\lib\\site-packages\\ydata_profiling\\model\\typeset_relations.py:88: UserWarning: Parsing dates in DD/MM/YYYY format when dayfirst=False (the default) was specified. This may lead to inconsistently parsed dates! Specify a format to ensure consistent parsing.\n",
      "  return not series.astype(\"datetime64\").isna().all()\n"
     ]
    },
    {
     "data": {
      "application/vnd.jupyter.widget-view+json": {
       "model_id": "cc21e21f085b4342823b13b82aca36a4",
       "version_major": 2,
       "version_minor": 0
      },
      "text/plain": [
       "Generate report structure:   0%|          | 0/1 [00:00<?, ?it/s]"
      ]
     },
     "metadata": {},
     "output_type": "display_data"
    },
    {
     "data": {
      "application/vnd.jupyter.widget-view+json": {
       "model_id": "bda1225b0fd148e39cf02c67a402dc5b",
       "version_major": 2,
       "version_minor": 0
      },
      "text/plain": [
       "Render widgets:   0%|          | 0/1 [00:00<?, ?it/s]"
      ]
     },
     "metadata": {},
     "output_type": "display_data"
    },
    {
     "data": {
      "application/vnd.jupyter.widget-view+json": {
       "model_id": "989b9c01a12b4a6faf828e8458853582",
       "version_major": 2,
       "version_minor": 0
      },
      "text/plain": [
       "VBox(children=(Tab(children=(Tab(children=(GridBox(children=(VBox(children=(GridspecLayout(children=(HTML(valu…"
      ]
     },
     "metadata": {},
     "output_type": "display_data"
    }
   ],
   "source": [
    "profile.to_widgets()"
   ]
  },
  {
   "cell_type": "code",
   "execution_count": 22,
   "metadata": {},
   "outputs": [
    {
     "name": "stdout",
     "output_type": "stream",
     "text": [
      "./data/2019.csv: MacRoman with confidence 0.7286669180855415\n"
     ]
    }
   ],
   "source": [
    "!chardetect ./data/2019.csv"
   ]
  },
  {
   "cell_type": "code",
   "execution_count": 26,
   "metadata": {},
   "outputs": [
    {
     "data": {
      "text/plain": [
       "array(['1.0.1OTH - Other actions', '1.0.11 - Horizon Europe',\n",
       "       '1.0.41 - European Space Programme',\n",
       "       '1.0.12 - Euratom Research and Training Programme',\n",
       "       '2.2.24 - Union Civil Protection Mechanism (RescEU)',\n",
       "       '3.1.11 - European Agricultural Guarantee Fund (EAGF)',\n",
       "       '5.0.13 - Nuclear Safety and decommissioning (incl - For Bulgaria and Slovakia)',\n",
       "       '1.0.23 - Digital Europe Programme',\n",
       "       '1.0.31 - Single Market Programme (incl - SMEs)',\n",
       "       '7.2.341 - Information and communication technology',\n",
       "       '2.2.26 - Instrument for emergency support within the Union (ESI)',\n",
       "       '1.0.2PPPA - Pilot projects and preparatory actions',\n",
       "       '3.2.21 - Programme for Environment and Climate Action (LIFE)',\n",
       "       '7.2.383 - Other administrative expenditure',\n",
       "       '1.0.2SPEC - Actions financed under the prerogatives of the Commission and specific competences conferred to the Commission',\n",
       "       '5.0.1SPEC - Actions financed under the prerogatives of the Commission and specific competences conferred to the Commission',\n",
       "       '1.0.222 - Connecting Europe Facility (CEF) - Energy',\n",
       "       '1.0.13 - International Thermonuclear Experimental Reactor (ITER)',\n",
       "       '1.0.2OTH - Other actions', '1.0.2DAG - Decentralised Agencies',\n",
       "       '7.2.334 - Social and Mobility',\n",
       "       '7.2.361 - Mission and representation', '2.2.32 - Erasmus+',\n",
       "       '2.2.34 - Creative Europe',\n",
       "       '6.0.21 - Pre-Accession Assistance (IPA III)',\n",
       "       '6.0.111 - Neighbourhood, Development and International Cooperation Instrument - Global Europe (NDICI - Global Europe)',\n",
       "       '2.2.352 - Citizens, Equality, Rights and Values',\n",
       "       '2.2.33 - European Solidarity Corps (ESC)',\n",
       "       '2.1.311 - European Social Fund (ESF)',\n",
       "       '2.2.312 - Employment and Social Innovation',\n",
       "       '2.2.3SPEC - Actions financed under the prerogatives of the Commission and specific competences conferred to the Commission',\n",
       "       '4.0.11 - Asylum, Migration and Integration Fund (AMIF)',\n",
       "       '3.2.12 - European Agricultural Fund for Rural Development (EAFRD)',\n",
       "       '5.0.11 - Internal Security Fund (ISF)',\n",
       "       '3.2.13 - European Maritime, Fisheries and Aquaculture Fund (EMFAF)',\n",
       "       '1.0.223 - Connecting Europe Facility (CEF) - Digital',\n",
       "       '2.1.11 - European Regional Development Fund (ERDF)',\n",
       "       '2.1.121 - Cohesion Fund (CF)', '2.2.3OTH - Other actions',\n",
       "       '4.0.211 - Integrated Border Management Fund (IBMF) - Instrument for border management and visa (BMVI)',\n",
       "       '7.2.312 - Remuneration external staff',\n",
       "       '2.2.3DAG - Decentralised Agencies', '2.2.351 - Justice',\n",
       "       '4.0.2DAG - Decentralised Agencies',\n",
       "       '5.0.1DAG - Decentralised Agencies',\n",
       "       '4.0.1DAG - Decentralised Agencies',\n",
       "       '1.0.33 - Cooperation in the field of taxation (Fiscalis)',\n",
       "       '1.0.34 - Cooperation in the field of customs (Customs)',\n",
       "       '7.2.333 - Training costs', '7.2.374 - Studies and investigations',\n",
       "       '1.0.21 - InvestEU Fund',\n",
       "       '2.2.2SPEC - Actions financed under the prerogatives of the Commission and specific competences conferred to the Commission',\n",
       "       'O.0.OTH - Other actions', '2.2.25 - EU4Health',\n",
       "       '6.0.1SPEC - Actions financed under the prerogatives of the Commission and specific competences conferred to the Commission',\n",
       "       '6.0.12 - Humanitarian Aid (HUMA)',\n",
       "       '1.0.221 - Connecting Europe Facility (CEF) - Transport',\n",
       "       '2.2.21 - European Recovery and Resilience Facility (incl - Technical Support Instrument)',\n",
       "       '5.0.22 - Military Mobility',\n",
       "       '6.0.112 - European Instrument for Internation Nuclear Safety Cooperation (INSC)',\n",
       "       '4.0.212 - Integrated Border Management Fund (IBMF) - Instrument for financial support for customs control equipment (CCEi)',\n",
       "       '5.0.211 - European Defence Fund (Research)',\n",
       "       '6.0.13 - Common Foreign and Security Policy (CFSP)',\n",
       "       '5.0.212 - European Defence Fund (Non Research)',\n",
       "       '6.0.14 - Overseas Countries and Territories (OCT) (including Greenland)',\n",
       "       '1.0.1PPPA - Pilot projects and preparatory actions',\n",
       "       \"2.2.22 - Protection of the euro against counterfeiting (the ëPericles IV programme')\",\n",
       "       '1.0.3OTH - Other actions',\n",
       "       '7.2.362 - Meetings, committees, conference',\n",
       "       '7.2.352 - Linked to buildings',\n",
       "       '2.2.3PPPA - Pilot projects and preparatory actions',\n",
       "       '7.2.351 - Rents and purchases', '7.2.353 - Security',\n",
       "       '7.2.381 - General equipment, vehicle, furniture',\n",
       "       '2.2.13 - Support to the Turkish-Cypriot Community',\n",
       "       '7.2.373 - Acquisition of information',\n",
       "       '1.0.32 - EU Anti-Fraud Programme', '7.2.372 - Publications',\n",
       "       '3.2.2PPPA - Pilot projects and preparatory actions',\n",
       "       '6.0.1OTH - Other actions', '3.2.2DAG - Decentralised Agencies',\n",
       "       '7.2.371 - Official journal',\n",
       "       '7.1.23 - (European schools) Commission',\n",
       "       '7.2.331 - Recruitment costs',\n",
       "       '2.1.1PPPA - Pilot projects and preparatory actions',\n",
       "       '3.2.22 - Just Transition Fund',\n",
       "       'S.0.1 - Solidarity and Emergency Aid Reserve (SEAR)',\n",
       "       '3.2.1PPPA - Pilot projects and preparatory actions',\n",
       "       '2.1.122 - Cohesion Fund (CF), contribution to the Connecting Europe Facility (CEF) - Transport',\n",
       "       'O.0.1 - Innovation Fund (IF)',\n",
       "       '3.2.23 - Public sector loan facility under the Just Transition Mechanism (JTM)',\n",
       "       '1.0.3PPPA - Pilot projects and preparatory actions',\n",
       "       '1.0.3DAG - Decentralised Agencies',\n",
       "       '7.2.382 - Linguistic external services',\n",
       "       '2.2.2DAG - Decentralised Agencies',\n",
       "       '2.2.23 - Financing cost of the European Union Recovery Instrument (EURI)',\n",
       "       '3.2.14 - Sustainable Fisheries Partnership Agreements (SFPA) and Regional Fisheries Management Organisations (RFMO)',\n",
       "       '3.2.1DAG - Decentralised Agencies',\n",
       "       '1.0.4DAG - Decentralised Agencies',\n",
       "       '11th European Development Fund (EDF)',\n",
       "       '10th European Development Fund (EDF)',\n",
       "       '9th European Development Fund (EDF)'], dtype=object)"
      ]
     },
     "execution_count": 26,
     "metadata": {},
     "output_type": "execute_result"
    }
   ],
   "source": [
    "df[\"Programme name\"].unique()"
   ]
  }
 ],
 "metadata": {
  "kernelspec": {
   "display_name": "big_data",
   "language": "python",
   "name": "python3"
  },
  "language_info": {
   "codemirror_mode": {
    "name": "ipython",
    "version": 3
   },
   "file_extension": ".py",
   "mimetype": "text/x-python",
   "name": "python",
   "nbconvert_exporter": "python",
   "pygments_lexer": "ipython3",
   "version": "3.10.11"
  },
  "orig_nbformat": 4
 },
 "nbformat": 4,
 "nbformat_minor": 2
}
