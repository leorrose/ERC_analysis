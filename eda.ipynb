{
 "cells": [
  {
   "cell_type": "markdown",
   "metadata": {},
   "source": [
    "Let's get the end date and start date from the dashboard. Note that code is semi supervised and should be stopped by the user when we get all the projects."
   ]
  },
  {
   "cell_type": "code",
   "execution_count": null,
   "metadata": {},
   "outputs": [],
   "source": [
    "import time\n",
    "import chromedriver_binary\n",
    "from tqdm import tqdm\n",
    "import pandas as pd\n",
    "from selenium import webdriver\n",
    "from selenium.webdriver.support.wait import WebDriverWait\n",
    "from selenium.webdriver.common.by import By\n",
    "from selenium.webdriver.support import expected_conditions as EC\n",
    "from selenium.common.exceptions import TimeoutException\n",
    "from selenium.webdriver.chrome.options import Options\n",
    "\n",
    "# read data\n",
    "df = pd.read_csv(\"erc_data.csv\", delimiter=';')\n",
    "\n",
    "# Project dates\n",
    "dates = pd.read_csv(\"erc_dates.csv\").set_index('Project number').T\n",
    "dates.columns = dates.columns.map(str)\n",
    "dates = dates.to_dict('list')\n",
    "\n",
    "while True:\n",
    "    # Open web driver\n",
    "    driver = webdriver.Chrome()\n",
    "\n",
    "    # Get dashboard\n",
    "    driver.get(\"https://dashboard.tech.ec.europa.eu/qs_digit_dashboard_mt/public/sense/app/afe00964-3272-45c4-b60c-b64ed20d98d1/sheet/61a0bd1d-cd6d-4ac8-8b55-80d8661e44c0/state/analysis\")\n",
    "\n",
    "    try:\n",
    "        # Wait for table to know page loaded\n",
    "        WebDriverWait(driver, 60).until(EC.presence_of_element_located((By.CLASS_NAME, \"qv-grid-object-data-first-row\")))\n",
    "\n",
    "        # Loop over each project\n",
    "        for project_number in tqdm(df[\"Project number\"].dropna().astype(int).astype(str).values):\n",
    "            # Check if we have date already\n",
    "            if dates.get(project_number) is None:\n",
    "                # Convert to str\n",
    "                project_number = str(project_number)\n",
    "                \n",
    "                # Click search button\n",
    "                driver.find_elements(By.CLASS_NAME, \"qv-st-header-cell\")[1].click()\n",
    "\n",
    "                # Insert project ID\n",
    "                try:\n",
    "                    WebDriverWait(driver, 10).until(EC.presence_of_element_located((By.CLASS_NAME, \"lui-search__input\")))\n",
    "                    driver.find_elements(By.CLASS_NAME, \"lui-search__input\")[0].send_keys(project_number)\n",
    "                except TimeoutException:\n",
    "                    driver.find_elements(By.CLASS_NAME, \"qv-st-header-cell\")[1].click()\n",
    "                    WebDriverWait(driver, 10).until(EC.presence_of_element_located((By.CLASS_NAME, \"lui-search__input\")))\n",
    "                    driver.find_elements(By.CLASS_NAME, \"lui-search__input\")[0].send_keys(project_number)\n",
    "                \n",
    "                # Click the project to open panel if project exist\n",
    "                try: \n",
    "                    WebDriverWait(driver, 60).until(EC.presence_of_element_located((By.CLASS_NAME, \"highlighted\")))\n",
    "                    driver.find_elements(By.CLASS_NAME, \"highlighted\")[0].click()\n",
    "                    \n",
    "                    # Get all info inside panel\n",
    "                    time.sleep(1)\n",
    "                    children = driver.find_elements(By.CLASS_NAME, \"qv-media-tool-html\")[1].find_elements(By.XPATH, '*')\n",
    "\n",
    "                    # Get the project number from page and check if it is the same\n",
    "                    page_project_number = driver.find_elements(By.CLASS_NAME, \"current-selection-item-text\")[0].text.split()[-1]\n",
    "                    if page_project_number != project_number:\n",
    "                        print(f\"Wrong selection project {project_number}, {page_project_number}\")\n",
    "                    \n",
    "                    # Get start date\n",
    "                    start_date = children[8].text.split(\":\")[1].strip()\n",
    "                    \n",
    "                    # Get end date\n",
    "                    end_date = children[9].text.split(\":\")[1].strip()\n",
    "\n",
    "                    dates[project_number] = [start_date, end_date]\n",
    "\n",
    "                    # Remove project selection\n",
    "                    driver.find_elements(By.CLASS_NAME, \"current-selection-item-text\")[1].click()\n",
    "                except TimeoutException:\n",
    "                    print(f\"Project does not exist in dashboard: {project_number}\")\n",
    "\n",
    "    except Exception as e:\n",
    "        print(e)\n",
    "    \n",
    "    finally:\n",
    "        driver.quit()"
   ]
  },
  {
   "cell_type": "markdown",
   "metadata": {},
   "source": [
    "Let's save the dates:"
   ]
  },
  {
   "cell_type": "code",
   "execution_count": 17,
   "metadata": {},
   "outputs": [],
   "source": [
    "pd.DataFrame([[i[0], *i[1]] for i in dates.items()], columns=[\"Project Number\", \"Start Date\", \"End Date\"]).to_csv(\"erc_dates.csv\", index=False)"
   ]
  }
 ],
 "metadata": {
  "kernelspec": {
   "display_name": "big_data",
   "language": "python",
   "name": "python3"
  },
  "language_info": {
   "codemirror_mode": {
    "name": "ipython",
    "version": 3
   },
   "file_extension": ".py",
   "mimetype": "text/x-python",
   "name": "python",
   "nbconvert_exporter": "python",
   "pygments_lexer": "ipython3",
   "version": "3.10.11"
  },
  "orig_nbformat": 4
 },
 "nbformat": 4,
 "nbformat_minor": 2
}
